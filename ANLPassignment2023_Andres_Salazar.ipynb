{
  "cells": [
    {
      "cell_type": "markdown",
      "metadata": {
        "id": "f2S8I2ny-ovS"
      },
      "source": [
        "# ANLP Assignment: Sentiment Classification\n",
        "\n",
        "In this assignment, you will be investigating NLP methods for distinguishing positive and negative reviews written about movies.\n",
        "\n",
        "For assessment, you are expected to complete and submit this notebook file.  When answers require code, you may import and use library functions (unless explicitly told otherwise).  All of your own code should be included in the notebook rather than imported from elsewhere.  Written answers should also be included in the notebook.  You should insert as many extra cells as you want and change the type between code and markdown as appropriate.\n",
        "\n",
        "In order to avoid misconduct, you should not talk about the assignment questions with your peers.  If you are not sure what a question is asking you to do or have any other questions, please ask me or one of the Teaching Assistants.\n",
        "\n",
        "Marking guidelines are provided as a separate document.\n",
        "\n",
        "The first few cells contain code to set-up the assignment and bring in some data.   In order to provide unique datasets for analysis by different students, you must enter your candidate number in the following cell.  Otherwise do not change the code in these cells."
      ]
    },
    {
      "cell_type": "code",
      "execution_count": 1,
      "metadata": {
        "id": "1gXQAZas-l9c"
      },
      "outputs": [],
      "source": [
        "candidateno = 276209 #this MUST be updated to your candidate number so that you get a unique data sample\n"
      ]
    },
    {
      "cell_type": "code",
      "execution_count": 2,
      "metadata": {
        "colab": {
          "base_uri": "https://localhost:8080/"
        },
        "id": "nk8JTP88A8vs",
        "outputId": "5ce22518-19d8-4c38-b8f9-13732a3c7a44"
      },
      "outputs": [
        {
          "name": "stderr",
          "output_type": "stream",
          "text": [
            "[nltk_data] Downloading package punkt to\n",
            "[nltk_data]     C:\\Users\\andre\\AppData\\Roaming\\nltk_data...\n",
            "[nltk_data]   Package punkt is already up-to-date!\n",
            "[nltk_data] Downloading package stopwords to\n",
            "[nltk_data]     C:\\Users\\andre\\AppData\\Roaming\\nltk_data...\n",
            "[nltk_data]   Package stopwords is already up-to-date!\n",
            "[nltk_data] Downloading package movie_reviews to\n",
            "[nltk_data]     C:\\Users\\andre\\AppData\\Roaming\\nltk_data...\n",
            "[nltk_data]   Package movie_reviews is already up-to-date!\n"
          ]
        }
      ],
      "source": [
        "#do not change the code in this cell\n",
        "#preliminary imports\n",
        "\n",
        "#set up nltk\n",
        "import nltk\n",
        "nltk.download('punkt')\n",
        "nltk.download('stopwords')\n",
        "nltk.download('movie_reviews')\n",
        "from nltk.corpus import stopwords\n",
        "from nltk.tokenize import word_tokenize\n",
        "from nltk.corpus import movie_reviews\n",
        "\n",
        "#for setting up training and testing data\n",
        "import random\n",
        "\n",
        "#useful other tools\n",
        "import re\n",
        "import pandas as pd\n",
        "import matplotlib.pyplot as plt\n",
        "%matplotlib inline\n",
        "from itertools import zip_longest\n",
        "from nltk.probability import FreqDist\n",
        "from nltk.classify.api import ClassifierI\n"
      ]
    },
    {
      "cell_type": "code",
      "execution_count": 3,
      "metadata": {
        "id": "BHBkzAccCVaZ"
      },
      "outputs": [],
      "source": [
        "#do not change the code in this cell\n",
        "def split_data(data, ratio=0.7): # when the second argument is not given, it defaults to 0.7\n",
        "    \"\"\"\n",
        "    Given corpus generator and ratio:\n",
        "     - partitions the corpus into training data and test data, where the proportion in train is ratio,\n",
        "\n",
        "    :param data: A corpus generator.\n",
        "    :param ratio: The proportion of training documents (default 0.7)\n",
        "    :return: a pair (tuple) of lists where the first element of the\n",
        "            pair is a list of the training data and the second is a list of the test data.\n",
        "    \"\"\"\n",
        "\n",
        "    data = list(data)\n",
        "    n = len(data)\n",
        "    train_indices = random.sample(range(n), int(n * ratio))\n",
        "    test_indices = list(set(range(n)) - set(train_indices))\n",
        "    train = [data[i] for i in train_indices]\n",
        "    test = [data[i] for i in test_indices]\n",
        "    return (train, test)\n",
        "\n",
        "\n",
        "def get_train_test_data():\n",
        "\n",
        "    #get ids of positive and negative movie reviews\n",
        "    pos_review_ids=movie_reviews.fileids('pos')\n",
        "    neg_review_ids=movie_reviews.fileids('neg')\n",
        "\n",
        "    #split positive and negative data into training and testing sets\n",
        "    pos_train_ids, pos_test_ids = split_data(pos_review_ids)\n",
        "    neg_train_ids, neg_test_ids = split_data(neg_review_ids)\n",
        "    #add labels to the data and concatenate\n",
        "    training = [(movie_reviews.words(f),'pos') for f in pos_train_ids]+[(movie_reviews.words(f),'neg') for f in neg_train_ids]\n",
        "    testing = [(movie_reviews.words(f),'pos') for f in pos_test_ids]+[(movie_reviews.words(f),'neg') for f in neg_test_ids]\n",
        "\n",
        "    return training, testing"
      ]
    },
    {
      "cell_type": "markdown",
      "metadata": {
        "id": "1N3LWwBYICPP"
      },
      "source": [
        "When you have run the cell below, your unique training and testing samples will be stored in `training_data` and `testing_data`"
      ]
    },
    {
      "cell_type": "code",
      "execution_count": 4,
      "metadata": {
        "id": "HJLegkdPFUJA"
      },
      "outputs": [
        {
          "name": "stdout",
          "output_type": "stream",
          "text": [
            "The amount of training data is 1400\n",
            "The amount of testing data is 600\n",
            "The representation of a single data item is below\n",
            "(['there', 'are', 'certain', 'people', 'in', 'the', ...], 'pos')\n"
          ]
        }
      ],
      "source": [
        "#do not change the code in this cell\n",
        "random.seed(candidateno)\n",
        "training_data,testing_data=get_train_test_data()\n",
        "print(\"The amount of training data is {}\".format(len(training_data)))\n",
        "print(\"The amount of testing data is {}\".format(len(testing_data)))\n",
        "print(\"The representation of a single data item is below\")\n",
        "print(training_data[0])"
      ]
    },
    {
      "cell_type": "markdown",
      "metadata": {
        "id": "RbTq6eGv2XT2"
      },
      "source": [
        "1)  \n",
        "a) **Generate** a list of 10 content words which are representative of the positive reviews in your training data.\n",
        "\n",
        "b) **Generate** a list of 10 content words which are representative of the negative reviews in your training data.\n",
        "\n",
        "c) **Explain** what you have done and why\n",
        "\n",
        "[20\\%]"
      ]
    },
    {
      "cell_type": "markdown",
      "metadata": {},
      "source": [
        "#### Libraries used"
      ]
    },
    {
      "cell_type": "code",
      "execution_count": 5,
      "metadata": {},
      "outputs": [],
      "source": [
        "## Utilities\n",
        "import random, math\n",
        "import pandas as pd \n",
        "\n",
        "# NLTK utilities\n",
        "from nltk.corpus import stopwords\n",
        "from nltk.classify.api import ClassifierI\n",
        "from nltk.probability import FreqDist\n",
        "from nltk.stem.wordnet import WordNetLemmatizer\n",
        "from nltk.classify import NaiveBayesClassifier\n",
        "\n",
        "stop = stopwords.words('english')"
      ]
    },
    {
      "cell_type": "markdown",
      "metadata": {},
      "source": [
        "### Utilities used through the data processing and classification"
      ]
    },
    {
      "cell_type": "code",
      "execution_count": 6,
      "metadata": {},
      "outputs": [],
      "source": [
        "def normalise(wordlist):\n",
        "    \"\"\"\n",
        "    input: wordlist is a list of words\n",
        "    \"\"\"\n",
        "    filtered = [token.lower() for token in wordlist]\n",
        "\n",
        "    for token in filtered:\n",
        "        if token.isdigit():\n",
        "            index = filtered.index(token)\n",
        "            filtered[index] = 'NUM'\n",
        "        elif token.isalnum() == True and token.isalpha() == False:\n",
        "            index1 = filtered.index(token)\n",
        "            filtered[index1] = 'Nth'\n",
        "\n",
        "    return filtered\n",
        "\n",
        "def remove_stop_words(docs):\n",
        "    \"\"\"\n",
        "    input: docs is a list of words\n",
        "    \"\"\"\n",
        "    filtered_punct = [token for token in docs if token.isalpha() and token not in stop]\n",
        "\n",
        "    return filtered_punct\n",
        "\n",
        "def lemma(docs):\n",
        "    \"\"\"\n",
        "    input: dosc is a list of words\n",
        "    \"\"\"\n",
        "\n",
        "    ##Initialize lemmatizer\n",
        "    wnl = WordNetLemmatizer()\n",
        "\n",
        "    filtered_lemma = [wnl.lemmatize(token) for token in docs]\n",
        "\n",
        "    return filtered_lemma\n",
        "\n",
        "\n",
        "def most_frequent_words(posfreq,negfreq,topk):\n",
        "    \"\"\"\n",
        "    Input: Two frequency distributions a FreqDist type and a natural number\n",
        "    Output: The top k pairs in the frecuency distribution as a list\n",
        "    \"\"\"\n",
        "    dif_freq_dist = posfreq - negfreq\n",
        "\n",
        "    n_word = [word[0] for word in dif_freq_dist.most_common(topk)]\n",
        "\n",
        "    return n_word\n",
        "\n",
        "def above_threshold(posfreq,negfreq,threshold):\n",
        "    \"\"\"\n",
        "    Input: Two frequency distributions a FreqDist type and a natural number as the threshold\n",
        "    output: A list that has just the words with a value above the threshold\n",
        "    \"\"\"\n",
        "   \n",
        "    dif_freq_dist = posfreq - negfreq\n",
        "\n",
        "    words_above = [word for word, value in dif_freq_dist.items() if value > threshold]\n",
        "    \n",
        "    return words_above"
      ]
    },
    {
      "cell_type": "markdown",
      "metadata": {},
      "source": [
        "### Add case and number normalisation, remove stop words and lemmatisation to training data\n",
        "\n",
        "In this case, as our goal is to create a worldlist classifiers and to generate that wordlist automatically. One way to clean and pre-process the data and get the most relevant words and try to exclude repetitive words that repeat lots of times and do not offer important information is to apply `lower case and number normalisation` -- It takes the word, transforme it in lower case and replace the numbers and numbers mixted with letter to \"NUM\" and \"NTH\" as that information is not relevant for this classfier --, `remove stop words` -- It removes all stop words and commonly use un english (such as \"the\", \"a\", \"an\", \"in\") --, and `lemmatisation` -- It reduce the words to its base known as \"lemma\" that is the word that appers in a dictionary (such as \"played\" - \"play\" or \"mice\" - \"mouse\")."
      ]
    },
    {
      "cell_type": "code",
      "execution_count": 7,
      "metadata": {
        "id": "JXHrtNCg2XT4"
      },
      "outputs": [],
      "source": [
        "#now normalise and create bag-of-words FreqDist representations\n",
        "training_norm = [(FreqDist(lemma(remove_stop_words(normalise(wordlist)))),label) for (wordlist,label) in training_data]\n",
        "testing_norm = [(FreqDist(lemma(remove_stop_words(normalise(wordlist)))),label) for (wordlist,label) in testing_data]"
      ]
    },
    {
      "cell_type": "markdown",
      "metadata": {},
      "source": [
        "#### Checking if our training and testing data is balanced\n",
        "\n",
        "If the training and testing data are balance is possible to give proper conclusions when calculating the evaluation metrics."
      ]
    },
    {
      "cell_type": "code",
      "execution_count": 8,
      "metadata": {},
      "outputs": [
        {
          "name": "stdout",
          "output_type": "stream",
          "text": [
            "700\n",
            "700\n",
            "300\n",
            "300\n"
          ]
        }
      ],
      "source": [
        "cnt_train_pos = 0\n",
        "cnt_train_neg = 0\n",
        "\n",
        "cnt_test_pos = 0\n",
        "cnt_test_neg = 0\n",
        "\n",
        "for review, label in training_norm:\n",
        "    if label == \"pos\":\n",
        "        cnt_train_pos += 1\n",
        "    else:\n",
        "        cnt_train_neg += 1\n",
        "\n",
        "for review, label in testing_norm:\n",
        "    if label == \"pos\":\n",
        "        cnt_test_pos += 1\n",
        "    else:\n",
        "        cnt_test_neg += 1\n",
        "\n",
        "print(cnt_train_pos)\n",
        "print(cnt_train_neg)\n",
        "\n",
        "print(cnt_test_pos)\n",
        "print(cnt_test_neg)"
      ]
    },
    {
      "cell_type": "markdown",
      "metadata": {},
      "source": [
        "### Create the frequency distribution for positive and negative reviews\n",
        "\n",
        "In this step, the training data is split in positive and negative reviews and it is created the frequency distribution of each review with the `FreqDist` that records the number of times each word is in the review to finally get the bag of words needed to generate the wordlist."
      ]
    },
    {
      "cell_type": "code",
      "execution_count": 9,
      "metadata": {},
      "outputs": [],
      "source": [
        "pos_freq_dist=FreqDist()\n",
        "neg_freq_dist=FreqDist()\n",
        "\n",
        "for data in training_norm:\n",
        "    \n",
        "    if data[1] == 'pos':\n",
        "        freq_dist_temp = FreqDist(data[0])\n",
        "        pos_freq_dist += freq_dist_temp\n",
        "    else:\n",
        "        freq_dist_temp = FreqDist(data[0])\n",
        "        neg_freq_dist += freq_dist_temp"
      ]
    },
    {
      "cell_type": "markdown",
      "metadata": {},
      "source": [
        "### Display the output of the frecuency distribution for positive and negative reviews\n",
        "\n",
        "This distribution is the general distribution, it is necessary to extract the most relevant ones, that in this case are the most frequent ones for both positive and negative reviews."
      ]
    },
    {
      "cell_type": "code",
      "execution_count": 10,
      "metadata": {},
      "outputs": [
        {
          "data": {
            "text/html": [
              "<div>\n",
              "<style scoped>\n",
              "    .dataframe tbody tr th:only-of-type {\n",
              "        vertical-align: middle;\n",
              "    }\n",
              "\n",
              "    .dataframe tbody tr th {\n",
              "        vertical-align: top;\n",
              "    }\n",
              "\n",
              "    .dataframe thead th {\n",
              "        text-align: right;\n",
              "    }\n",
              "</style>\n",
              "<table border=\"1\" class=\"dataframe\">\n",
              "  <thead>\n",
              "    <tr style=\"text-align: right;\">\n",
              "      <th></th>\n",
              "      <th>Word</th>\n",
              "      <th>Frecuency</th>\n",
              "    </tr>\n",
              "  </thead>\n",
              "  <tbody>\n",
              "    <tr>\n",
              "      <th>0</th>\n",
              "      <td>certain</td>\n",
              "      <td>78</td>\n",
              "    </tr>\n",
              "    <tr>\n",
              "      <th>1</th>\n",
              "      <td>people</td>\n",
              "      <td>551</td>\n",
              "    </tr>\n",
              "    <tr>\n",
              "      <th>2</th>\n",
              "      <td>world</td>\n",
              "      <td>461</td>\n",
              "    </tr>\n",
              "    <tr>\n",
              "      <th>3</th>\n",
              "      <td>talent</td>\n",
              "      <td>91</td>\n",
              "    </tr>\n",
              "    <tr>\n",
              "      <th>4</th>\n",
              "      <td>chose</td>\n",
              "      <td>9</td>\n",
              "    </tr>\n",
              "    <tr>\n",
              "      <th>...</th>\n",
              "      <td>...</td>\n",
              "      <td>...</td>\n",
              "    </tr>\n",
              "    <tr>\n",
              "      <th>22809</th>\n",
              "      <td>ignites</td>\n",
              "      <td>1</td>\n",
              "    </tr>\n",
              "    <tr>\n",
              "      <th>22810</th>\n",
              "      <td>narcissistically</td>\n",
              "      <td>1</td>\n",
              "    </tr>\n",
              "    <tr>\n",
              "      <th>22811</th>\n",
              "      <td>groupie</td>\n",
              "      <td>1</td>\n",
              "    </tr>\n",
              "    <tr>\n",
              "      <th>22812</th>\n",
              "      <td>oeuvre</td>\n",
              "      <td>1</td>\n",
              "    </tr>\n",
              "    <tr>\n",
              "      <th>22813</th>\n",
              "      <td>blip</td>\n",
              "      <td>1</td>\n",
              "    </tr>\n",
              "  </tbody>\n",
              "</table>\n",
              "<p>22814 rows × 2 columns</p>\n",
              "</div>"
            ],
            "text/plain": [
              "                   Word  Frecuency\n",
              "0               certain         78\n",
              "1                people        551\n",
              "2                 world        461\n",
              "3                talent         91\n",
              "4                 chose          9\n",
              "...                 ...        ...\n",
              "22809           ignites          1\n",
              "22810  narcissistically          1\n",
              "22811           groupie          1\n",
              "22812            oeuvre          1\n",
              "22813              blip          1\n",
              "\n",
              "[22814 rows x 2 columns]"
            ]
          },
          "metadata": {},
          "output_type": "display_data"
        },
        {
          "data": {
            "text/html": [
              "<div>\n",
              "<style scoped>\n",
              "    .dataframe tbody tr th:only-of-type {\n",
              "        vertical-align: middle;\n",
              "    }\n",
              "\n",
              "    .dataframe tbody tr th {\n",
              "        vertical-align: top;\n",
              "    }\n",
              "\n",
              "    .dataframe thead th {\n",
              "        text-align: right;\n",
              "    }\n",
              "</style>\n",
              "<table border=\"1\" class=\"dataframe\">\n",
              "  <thead>\n",
              "    <tr style=\"text-align: right;\">\n",
              "      <th></th>\n",
              "      <th>Word</th>\n",
              "      <th>Frecuency</th>\n",
              "    </tr>\n",
              "  </thead>\n",
              "  <tbody>\n",
              "    <tr>\n",
              "      <th>0</th>\n",
              "      <td>appreciate</td>\n",
              "      <td>22</td>\n",
              "    </tr>\n",
              "    <tr>\n",
              "      <th>1</th>\n",
              "      <td>thriller</td>\n",
              "      <td>137</td>\n",
              "    </tr>\n",
              "    <tr>\n",
              "      <th>2</th>\n",
              "      <td>manipulates</td>\n",
              "      <td>3</td>\n",
              "    </tr>\n",
              "    <tr>\n",
              "      <th>3</th>\n",
              "      <td>viewer</td>\n",
              "      <td>99</td>\n",
              "    </tr>\n",
              "    <tr>\n",
              "      <th>4</th>\n",
              "      <td>thinking</td>\n",
              "      <td>73</td>\n",
              "    </tr>\n",
              "    <tr>\n",
              "      <th>...</th>\n",
              "      <td>...</td>\n",
              "      <td>...</td>\n",
              "    </tr>\n",
              "    <tr>\n",
              "      <th>21028</th>\n",
              "      <td>kool</td>\n",
              "      <td>1</td>\n",
              "    </tr>\n",
              "    <tr>\n",
              "      <th>21029</th>\n",
              "      <td>slooooow</td>\n",
              "      <td>1</td>\n",
              "    </tr>\n",
              "    <tr>\n",
              "      <th>21030</th>\n",
              "      <td>distract</td>\n",
              "      <td>1</td>\n",
              "    </tr>\n",
              "    <tr>\n",
              "      <th>21031</th>\n",
              "      <td>bandage</td>\n",
              "      <td>1</td>\n",
              "    </tr>\n",
              "    <tr>\n",
              "      <th>21032</th>\n",
              "      <td>dt</td>\n",
              "      <td>1</td>\n",
              "    </tr>\n",
              "  </tbody>\n",
              "</table>\n",
              "<p>21033 rows × 2 columns</p>\n",
              "</div>"
            ],
            "text/plain": [
              "              Word  Frecuency\n",
              "0       appreciate         22\n",
              "1         thriller        137\n",
              "2      manipulates          3\n",
              "3           viewer         99\n",
              "4         thinking         73\n",
              "...            ...        ...\n",
              "21028         kool          1\n",
              "21029     slooooow          1\n",
              "21030     distract          1\n",
              "21031      bandage          1\n",
              "21032           dt          1\n",
              "\n",
              "[21033 rows x 2 columns]"
            ]
          },
          "metadata": {},
          "output_type": "display_data"
        }
      ],
      "source": [
        "pos_rev_data = pd.DataFrame(list(pos_freq_dist.items()), columns = [\"Word\", \"Frecuency\"])\n",
        "neg_rev_data = pd.DataFrame(list(neg_freq_dist.items()), columns = [\"Word\", \"Frecuency\"])\n",
        "\n",
        "display(pos_rev_data)\n",
        "display(neg_rev_data)"
      ]
    },
    {
      "cell_type": "markdown",
      "metadata": {
        "id": "gvFu36xZ2XT5"
      },
      "source": [
        "### Using the most frequent words function to get automatically the most relevant positive and negative words\n",
        "\n",
        "In this case, it will be generated the wordlist automatically with two different methods to compare results and pick the best one. \n",
        "\n",
        "The methods are:\n",
        "\n",
        "* `Most frequent words`: That takes the number of top words needed and the `positive` and `negative` frequency distribution and subtract the negative words to the positive ones and return the top `k` word pre-selected.\n",
        "\n",
        "* `Above threshold words`: That works similar to the most frequent one but after the subtraction the parameter `k` set the words have that frequency or more in the bag of words."
      ]
    },
    {
      "cell_type": "code",
      "execution_count": 11,
      "metadata": {
        "id": "RgePc9hV2XT_"
      },
      "outputs": [
        {
          "name": "stdout",
          "output_type": "stream",
          "text": [
            "The 10 most relevant positive words in training data that are the most frequent are: ['film', 'life', 'also', 'great', 'one', 'story', 'well', 'best', 'performance', 'character']\n",
            "The 10 most relevant negative words in training data that are the most frequent are: ['bad', 'movie', 'plot', 'minute', 'worst', 'look', 'supposed', 'nothing', 'could', 'boring']\n"
          ]
        }
      ],
      "source": [
        "top_k = 10\n",
        "\n",
        "pos_train_most_frequent = most_frequent_words(pos_freq_dist, neg_freq_dist, top_k)\n",
        "neg_train_most_frequent = most_frequent_words(neg_freq_dist, pos_freq_dist, top_k)\n",
        "\n",
        "print(f\"The 10 most relevant positive words in training data that are the most frequent are: {pos_train_most_frequent}\")\n",
        "print(f\"The 10 most relevant negative words in training data that are the most frequent are: {neg_train_most_frequent}\")"
      ]
    },
    {
      "cell_type": "code",
      "execution_count": 12,
      "metadata": {},
      "outputs": [
        {
          "name": "stdout",
          "output_type": "stream",
          "text": [
            "The 10 most relevant positive words in training data using threshold are: ['people', 'world', 'take', 'one', 'film', 'time', 'year', 'find', 'way', 'performance', 'also', 'life', 'job', 'right', 'great', 'love', 'first', 'however', 'character', 'father', 'well', 'best', 'see', 'true', 'seen', 'american', 'man', 'story', 'may', 'quite', 'new', 'jackie', 'perfect', 'although', 'many', 'always', 'family', 'war', 'disney', 'alien']\n",
            "The 10 most relevant negative words in training data using threshold are: ['plot', 'movie', 'could', 'minute', 'even', 'look', 'supposed', 'nothing', 'bad', 'boring', 'worst', 'stupid']\n"
          ]
        }
      ],
      "source": [
        "threshold_k = 100\n",
        "\n",
        "pos_train_threshold_frequent = above_threshold(pos_freq_dist, neg_freq_dist, threshold_k)\n",
        "neg_train_threshold_frequent = above_threshold(neg_freq_dist, pos_freq_dist, threshold_k)\n",
        "\n",
        "print(f\"The 10 most relevant positive words in training data using threshold are: {pos_train_threshold_frequent}\")\n",
        "print(f\"The 10 most relevant negative words in training data using threshold are: {neg_train_threshold_frequent}\")"
      ]
    },
    {
      "cell_type": "markdown",
      "metadata": {
        "id": "TApOQE6vND20"
      },
      "source": [
        "2)\n",
        "a) **Use** the lists generated in Q1 to build a **word list classifier** which will classify reviews as being positive or negative.\n",
        "\n",
        "b) **Explain** what you have done.\n",
        "\n",
        "[12.5\\%]\n"
      ]
    },
    {
      "cell_type": "markdown",
      "metadata": {},
      "source": [
        "### Build three different classifiers \n",
        "\n",
        "In order to compare the performance on each one and pick the best one for our problem.\n",
        "\n",
        "* The selected classifiers:\n",
        "    * One based in most frequent words:\n",
        "        * Is an instance of `SimpleClassifier` and takes the `k` top words as parameter and create the wordlist for positive and negative words. Then, the classify method takes a list of words that is a frequency distribution and add the value of each word if it is in the positive wordlist or subtract the value if it is in the negative wordlist.\n",
        "    * One based on words above a selected threshold:\n",
        "        * Same as the most frequent method is an instance of `SimpleClassifier` but it takes the `threshold` to create the positive and negative wordlist.\n",
        "    * The one implemented in the `NLTK library`:\n",
        "        * Takes the positive and negative reviews as parameters and classify with the same strategy as the most frequent wordlist and above threshold."
      ]
    },
    {
      "cell_type": "code",
      "execution_count": 13,
      "metadata": {
        "id": "BThDMrcmODJy"
      },
      "outputs": [],
      "source": [
        "class SimpleClassifier(ClassifierI): \n",
        "\n",
        "    def __init__(self, pos, neg): \n",
        "        self._pos = pos \n",
        "        self._neg = neg \n",
        "    \n",
        "    def classify(self, words): \n",
        "        score = 0\n",
        "\n",
        "        for word, value in words.items():\n",
        "            \n",
        "            if word in self._pos:\n",
        "                score += value\n",
        "            if word in self._neg:\n",
        "                score -= value\n",
        "            \n",
        "        if score == 0:\n",
        "            score = random.randint(-1,1)\n",
        "                \n",
        "        return \"neg\" if score < 0 else \"pos\"\n",
        "\n",
        "    def classify_many(self, docs): \n",
        "        return [self.classify(FreqDist(doc)) for doc in docs]\n",
        "\n",
        "    def labels(self): \n",
        "        return (\"pos\", \"neg\")\n",
        "\n",
        "\n",
        "class SimpleClassifier_mf(SimpleClassifier):\n",
        "    \n",
        "    def __init__(self,k):\n",
        "        self._k=k\n",
        "        self._pos=[]\n",
        "        self._neg=[]\n",
        "\n",
        "    def train(self, training_data):\n",
        "\n",
        "        pos_freq_dist=FreqDist()\n",
        "        neg_freq_dist=FreqDist()\n",
        "\n",
        "        for word in training_data:\n",
        "            if word[1] == 'pos':\n",
        "                freq_dist_temp = FreqDist(word[0])\n",
        "                pos_freq_dist += freq_dist_temp\n",
        "            else:\n",
        "                freq_dist_temp = FreqDist(word[0])\n",
        "                neg_freq_dist += freq_dist_temp\n",
        "\n",
        "        self._pos = most_frequent_words(pos_freq_dist, neg_freq_dist, self._k)\n",
        "        self._neg = most_frequent_words(neg_freq_dist, pos_freq_dist, self._k)\n",
        "\n",
        "class SimpleClassifier_ot(SimpleClassifier):\n",
        "    \n",
        "    def __init__(self,k):\n",
        "        self._k=k\n",
        "        self._pos=[]\n",
        "        self._neg=[]\n",
        "\n",
        "    def train(self, training_data):\n",
        "\n",
        "        pos_freq_dist=FreqDist()\n",
        "        neg_freq_dist=FreqDist()\n",
        "\n",
        "        for word in training_data:\n",
        "    \n",
        "            if word[1] == 'pos':\n",
        "                freq_dist_temp = FreqDist(word[0])\n",
        "                pos_freq_dist += freq_dist_temp\n",
        "            else:\n",
        "                freq_dist_temp = FreqDist(word[0])\n",
        "                neg_freq_dist += freq_dist_temp\n",
        "\n",
        "        self._pos = above_threshold(pos_freq_dist, neg_freq_dist, self._k)\n",
        "        self._neg = above_threshold(neg_freq_dist, pos_freq_dist, self._k)"
      ]
    },
    {
      "cell_type": "markdown",
      "metadata": {
        "id": "YZdDO_Y92XUH"
      },
      "source": [
        "3)\n",
        "\n",
        "a) **Calculate** the accuracy, precision, recall and F1 score of your classifier.\n",
        "\n",
        "b) Is it reasonable to evaluate the classifier in terms of its accuracy?  **Explain** your answer and give a counter-example (a scenario where it would / would not be reasonable to evaluate the classifier in terms of its accuracy).\n",
        "\n",
        "[20\\%]"
      ]
    },
    {
      "cell_type": "markdown",
      "metadata": {},
      "source": [
        "### Calculating the accuracy, precision, recall and F1 score of the classifiers\n",
        "\n",
        "To assess the performance of the classifiers there are different evaluation metrics that can be applied, such as:\n",
        "\n",
        "* `Accuracy`: Takes the prediction and compares it with the real label, if the prediction is correct add one to the accuracy and finally calculate the porcentage that is the accurcy value divided in the total test data.\n",
        "\n",
        "* `Precision`: Is the measure of the true positive predictions divided by the sum of true positives and false positives. Provides the information of the objects measured, how many were positive.\n",
        "\n",
        "* `Recall`: Is the measure of the true positives divided by the sum of true positives and false negatives. Provides the information of the objects masured, how many did the classifier identify correctly as positive.\n",
        "\n",
        "* `F1 score`: Combines the precision and recall that provides the balance between them being 2 times the precision times recall divided by the sum of precision and recall. Provides the information of the classifier ability to correctly identify positives predictions while minimizing false positives."
      ]
    },
    {
      "cell_type": "code",
      "execution_count": 14,
      "metadata": {},
      "outputs": [],
      "source": [
        "class ConfusionMatrix:\n",
        "    def __init__(self,predictions,goldstandard,classes=(\"pos\",\"neg\")):\n",
        "    \n",
        "        (self.c1,self.c2)=classes\n",
        "        self.TP=0\n",
        "        self.FP=0\n",
        "        self.FN=0\n",
        "        self.TN=0\n",
        "        for p,g in zip(predictions,goldstandard):\n",
        "            if g==self.c1:\n",
        "                if p==self.c1:\n",
        "                    self.TP+=1\n",
        "                else:\n",
        "                    self.FN+=1\n",
        "        \n",
        "            elif p==self.c1:\n",
        "                self.FP+=1\n",
        "            else:\n",
        "                self.TN+=1\n",
        "        \n",
        "    \n",
        "    def precision(self):\n",
        "        p=0\n",
        "\n",
        "        p = self.TP/(self.TP + self.FP)\n",
        "    \n",
        "        return p\n",
        "  \n",
        "    def recall(self):\n",
        "        r=0\n",
        "    \n",
        "        r = self.TP/(self.TP + self.FN)\n",
        "\n",
        "        return r\n",
        "  \n",
        "    def f1(self):\n",
        "        f1=0\n",
        "\n",
        "        p = self.precision()\n",
        "        r = self.recall()\n",
        "\n",
        "        f1 = (2 * p * r)/(p + r)\n",
        "      \n",
        "        return f1 "
      ]
    },
    {
      "cell_type": "markdown",
      "metadata": {},
      "source": [
        "#### Accuracy\n",
        "\n",
        "To evaluate the performance of the classifier it os necesssary to create an `classifies_evaluate` function. \n",
        "\n",
        "The function takes two arguments, the `classifier` and the `test_data`. It separate the test data in the documents and their corresponding label, then, create the predictions using the test documents to finally compare the predictions with the actual labels and return the porcentage of accuracy."
      ]
    },
    {
      "cell_type": "code",
      "execution_count": 15,
      "metadata": {},
      "outputs": [],
      "source": [
        "def classifier_evaluate(cls, test_data):\n",
        "    '''\n",
        "    cls: an instance of a classifier object which has a classify method which returns \"pos\" or \"neg\"\n",
        "    test_data: a list of pairs where each pair is a FreqDist rep of a doc and its label\n",
        "  \n",
        "    returns: float point number which is the accuracy of the classifier on the test data provided \n",
        "    '''\n",
        "    acc = 0\n",
        "    docs,label=zip(*test_data) #note this neat pythonic way of turning a list of pairs into a pair of lists\n",
        "    #pass all of the docs to the classifier and get back a list of predictions\n",
        "    predictions=cls.classify_many(docs)\n",
        "    #zip the predictions with the labels and compare\n",
        "    for prediction,goldlabel in zip(predictions,label):\n",
        "\n",
        "        if prediction==goldlabel:\n",
        "            acc+=1\n",
        "    \n",
        "    return acc / (len(test_data))"
      ]
    },
    {
      "cell_type": "markdown",
      "metadata": {},
      "source": [
        "The accuracy for each classifier is estimated using the `classifier_evaluate` function"
      ]
    },
    {
      "cell_type": "code",
      "execution_count": 16,
      "metadata": {
        "id": "R_i80ceP2XUJ"
      },
      "outputs": [
        {
          "name": "stdout",
          "output_type": "stream",
          "text": [
            "The Accuracy of the basic classifier is 0.5866666666666667\n"
          ]
        }
      ],
      "source": [
        "##Create the classifier\n",
        "movie_classifier1_Basic = SimpleClassifier(pos_train_most_frequent, neg_train_most_frequent)\n",
        "\n",
        "#Evaluate classifier\n",
        "#The function requires two arguments:\n",
        "# 1. Word list based classifer\n",
        "# 2. A list (or generator) of labelled test items\n",
        "\n",
        "score = classifier_evaluate(movie_classifier1_Basic, testing_data)\n",
        "print(f\"The Accuracy of the basic classifier is {score}\")"
      ]
    },
    {
      "cell_type": "code",
      "execution_count": 17,
      "metadata": {
        "id": "VbYwwhcs2XUL"
      },
      "outputs": [
        {
          "name": "stdout",
          "output_type": "stream",
          "text": [
            "The Accuracy of the most frequent based classifier is 0.5933333333333334\n"
          ]
        }
      ],
      "source": [
        "##Create the classifier\n",
        "movie_classifier2_mf = SimpleClassifier_mf(100)\n",
        "\n",
        "#Evaluate classifier\n",
        "#The function requires two arguments:\n",
        "# 1. Word list based classifer\n",
        "# 2. A list (or generator) of labelled test items\n",
        "\n",
        "movie_classifier2_mf.train(training_norm)\n",
        "score = classifier_evaluate(movie_classifier2_mf, testing_norm)\n",
        "print(f\"The Accuracy of the most frequent based classifier is {score}\")"
      ]
    },
    {
      "cell_type": "code",
      "execution_count": 18,
      "metadata": {},
      "outputs": [
        {
          "name": "stdout",
          "output_type": "stream",
          "text": [
            "The Accuracy of the threshold based classifier is 0.5433333333333333\n"
          ]
        }
      ],
      "source": [
        "##Create the classifier\n",
        "movie_classifier3_ot = SimpleClassifier_ot(200)\n",
        "\n",
        "#Evaluate classifier\n",
        "#The function requires two arguments:\n",
        "# 1. Word list based classifer\n",
        "# 2. A list (or generator) of labelled test items\n",
        "\n",
        "movie_classifier3_ot = SimpleClassifier_ot(200)\n",
        "movie_classifier3_ot.train(training_norm)\n",
        "score = classifier_evaluate(movie_classifier3_ot, testing_norm)\n",
        "print(f\"The Accuracy of the threshold based classifier is {score}\")"
      ]
    },
    {
      "cell_type": "markdown",
      "metadata": {},
      "source": [
        "#### Is it reasonable to evaluate the classifiers in terms of its accuracy?\n",
        "\n",
        "Evaluate the classifiers in terms of its accuracy provides an overview of how the classifier is performing through some testing data, being intuitive as its output is the correctly classified objects divided by the total objects. Nevertheless, is important to confirm the specific characteristis of the data set and the goals of the classification task. \n",
        "\n",
        "if the data set is `balanced`, which means that the classes in the data set have the same number of data `e.g` 700 positive and negative reviews in training data and 300 positive and negative reviews in testing data. The accuracy will give an important insight on the classifier. Furthermore, if the main goal is to measure the performance of the classifier across all the positive and negative reviews by equal, is required to have a balanced data.\n",
        "\n",
        "However, if the data is `imbalanced` `e.g` 90% of the data is labeled as positive reviews and just the other 10% of the data is related to negative reviews the classifier could reach a high accuracy by predicting just the positive ones that are the majority even if its performance predicting the minority class is poor. What it means is that the classifier is just performing good with one class but when it comes to the negative ones could be not as good.\n",
        "\n",
        "Certainly, the `accuracy` as evaluation metric give relevant information if it is kept in mind the characteristics of the data, where a balance data will be necessary to give the best description for the classifier over all classes. Therefore, if the data available is imbalance it would not be reasonable to evaluate the classifier in terms of accuracy. Hence, there are other evaluation metrics that evaluate the classifier in termins of true positives, false positives, true negatives and false negatives such as precision, recall and F1-Score that may provided a better information."
      ]
    },
    {
      "cell_type": "markdown",
      "metadata": {},
      "source": [
        "#### Precision, recall and F1 score results\n",
        "\n",
        "First is necessary to split the test data into the documents and its correspondig labels, and a pythonic way to do it is to use the `zip()` function in which with the `*` character along the variable. Is going to split the data in two equall list and make it possible to compare the classifier prediction with the actual label."
      ]
    },
    {
      "cell_type": "code",
      "execution_count": 19,
      "metadata": {},
      "outputs": [],
      "source": [
        "docs, labels = zip(*testing_norm)"
      ]
    },
    {
      "cell_type": "markdown",
      "metadata": {},
      "source": [
        "#### Summary"
      ]
    },
    {
      "cell_type": "code",
      "execution_count": 20,
      "metadata": {},
      "outputs": [],
      "source": [
        "\"\"\"Precision\"\"\"\n",
        "sentiment1_precision = ConfusionMatrix(movie_classifier1_Basic.classify_many(docs), labels)\n",
        "sentiment2_precision = ConfusionMatrix(movie_classifier2_mf.classify_many(docs), labels)\n",
        "sentiment3_precision = ConfusionMatrix(movie_classifier3_ot.classify_many(docs), labels)\n",
        "\n",
        "\"\"\"Recall\"\"\"\n",
        "sentiment1_recall = ConfusionMatrix(movie_classifier1_Basic.classify_many(docs), labels)\n",
        "sentiment2_recall = ConfusionMatrix(movie_classifier2_mf.classify_many(docs), labels)\n",
        "sentiment3_recall = ConfusionMatrix(movie_classifier3_ot.classify_many(docs), labels)\n",
        "\n",
        "\"\"\"F1-Score\"\"\"\n",
        "sentiment1_f1 = ConfusionMatrix(movie_classifier1_Basic.classify_many(docs), labels)\n",
        "sentiment2_f1 = ConfusionMatrix(movie_classifier2_mf.classify_many(docs), labels)\n",
        "sentiment3_f1 = ConfusionMatrix(movie_classifier3_ot.classify_many(docs), labels)"
      ]
    },
    {
      "cell_type": "code",
      "execution_count": 21,
      "metadata": {},
      "outputs": [
        {
          "name": "stdout",
          "output_type": "stream",
          "text": [
            "Evaluation metris for SimpleClassifier:\n",
            "\n",
            "Sentiment precision for SimpleClassifier: 0.5469\n",
            "Sentiment recall for SimpleClassifier: 0.9133\n",
            "Sentiment f1 for SimpleClassifier: 0.6850\n",
            "--------------------------------------------------------------------------\n",
            "Evaluation metrics for most frequent words classifier:\n",
            "\n",
            "Sentiment precision for most frequent words based classifier: 0.5533\n",
            "Sentiment recall for most frequent words based classifier: 0.9867\n",
            "Sentiment f1 for most frequent words based classifier: 0.7090\n",
            "--------------------------------------------------------------------------\n",
            "Evaluation metrics for above threshold words classifier:\n",
            "\n",
            "Sentiment precision for threshold based classifier: 0.5219\n",
            "Sentiment recall for threshold based classifier: 0.9500\n",
            "Sentiment f1 for threshold based classifier: 0.6737\n",
            "--------------------------------------------------------------------------\n"
          ]
        }
      ],
      "source": [
        "# Simple Classifier\n",
        "print(\"Evaluation metris for SimpleClassifier:\\n\")\n",
        "print(f\"Sentiment precision for SimpleClassifier: {sentiment1_precision.precision():.4f}\")\n",
        "print(f\"Sentiment recall for SimpleClassifier: {sentiment1_recall.recall():.4f}\")\n",
        "print(f\"Sentiment f1 for SimpleClassifier: {sentiment1_f1.f1():.4f}\")\n",
        "print(\"--------------------------------------------------------------------------\")\n",
        "\n",
        "## Most Frequent words classifier\n",
        "print(\"Evaluation metrics for most frequent words classifier:\\n\")\n",
        "print(f\"Sentiment precision for most frequent words based classifier: {sentiment2_precision.precision():.4f}\")\n",
        "print(f\"Sentiment recall for most frequent words based classifier: {sentiment2_recall.recall():.4f}\")\n",
        "print(f\"Sentiment f1 for most frequent words based classifier: {sentiment2_f1.f1():.4f}\")\n",
        "print(\"--------------------------------------------------------------------------\")\n",
        "\n",
        "## Above threshold classifier\n",
        "print(\"Evaluation metrics for above threshold words classifier:\\n\")\n",
        "print(f\"Sentiment precision for threshold based classifier: {sentiment3_precision.precision():.4f}\")\n",
        "print(f\"Sentiment recall for threshold based classifier: {sentiment3_recall.recall():.4f}\")\n",
        "print(f\"Sentiment f1 for threshold based classifier: {sentiment3_f1.f1():.4f}\")\n",
        "print(\"--------------------------------------------------------------------------\")"
      ]
    },
    {
      "cell_type": "markdown",
      "metadata": {},
      "source": [
        "#### Estimating and displaying the classifiers evaluation metrics\n",
        "\n",
        "The `get_metrics` function takes the classifiers dictionary as parameter and calculate the evaluation metrics for each classifier using the `ConfusionMatrix` class where there are all the methods used to estimate each metric and stores all the information in a list with the name, accuracy, precision, recall and F1-Score for each classifier. \n",
        "\n",
        "This list is then transform to a data frame and set each column of that new data frame to the name, accuracy, precision, recall and F1-Score. Finally plot the information in the dataframe in a bar chart where the y axis represents the numeric representation of each classifier and the x axis represents the classifiers evaluated."
      ]
    },
    {
      "cell_type": "code",
      "execution_count": 22,
      "metadata": {},
      "outputs": [],
      "source": [
        "def get_metrics(classifiers):\n",
        "\n",
        "    \"\"\"\n",
        "    input: A dictionary of classifiers with a pre defined name to work properly and its value is the created classifier\n",
        "\n",
        "    output: A dictionary of dictionaries were the columns are the classifier and the rows the number of words in wordlist\n",
        "    \"\"\"\n",
        "    all_results=[]\n",
        "    for name,classifier in classifiers.items():\n",
        "        \n",
        "        if name == \"Word List MF\":\n",
        "            classifier.train(training_norm)\n",
        "            accuracy = classifier_evaluate(classifier,testing_norm)\n",
        "            sentiment = ConfusionMatrix(classifier.classify_many(docs), labels)\n",
        "            precision = sentiment.precision()\n",
        "            recall = sentiment.recall()\n",
        "            f1 = sentiment.f1()\n",
        "            all_results.append((name,accuracy, precision, recall, f1))\n",
        "            \n",
        "        elif name == \"Word List Thresh\":\n",
        "            classifier.train(training_norm)\n",
        "            accuracy = classifier_evaluate(classifier,testing_norm)\n",
        "            sentiment = ConfusionMatrix(classifier.classify_many(docs), labels)\n",
        "            precision = sentiment.precision()\n",
        "            recall = sentiment.recall()\n",
        "            f1 = sentiment.f1()\n",
        "            all_results.append((name,accuracy, precision, recall, f1))\n",
        "\n",
        "        elif name == \"NLTK Naive Bayes\":\n",
        "            accuracy = classifier_evaluate(classifier,testing_norm)\n",
        "            sentiment = ConfusionMatrix(classifier.classify_many(docs), labels)\n",
        "            precision = sentiment.precision()\n",
        "            recall = sentiment.recall()\n",
        "            f1 = sentiment.f1()\n",
        "            all_results.append((name,accuracy, precision, recall, f1))\n",
        "            \n",
        "        else:\n",
        "            accuracy=classifier_evaluate(classifier,testing_norm)\n",
        "            sentiment = ConfusionMatrix(classifier.classify_many(docs), labels)\n",
        "            precision = sentiment.precision()\n",
        "            recall = sentiment.recall()\n",
        "            f1 = sentiment.f1()\n",
        "            \n",
        "            all_results.append((name,accuracy, precision, recall, f1))\n",
        "\n",
        "    return all_results"
      ]
    },
    {
      "cell_type": "code",
      "execution_count": 23,
      "metadata": {},
      "outputs": [
        {
          "data": {
            "text/html": [
              "<div>\n",
              "<style scoped>\n",
              "    .dataframe tbody tr th:only-of-type {\n",
              "        vertical-align: middle;\n",
              "    }\n",
              "\n",
              "    .dataframe tbody tr th {\n",
              "        vertical-align: top;\n",
              "    }\n",
              "\n",
              "    .dataframe thead th {\n",
              "        text-align: right;\n",
              "    }\n",
              "</style>\n",
              "<table border=\"1\" class=\"dataframe\">\n",
              "  <thead>\n",
              "    <tr style=\"text-align: right;\">\n",
              "      <th></th>\n",
              "      <th>Name</th>\n",
              "      <th>Accuracy</th>\n",
              "      <th>Precision</th>\n",
              "      <th>Recall</th>\n",
              "      <th>F1-Score</th>\n",
              "    </tr>\n",
              "  </thead>\n",
              "  <tbody>\n",
              "    <tr>\n",
              "      <th>0</th>\n",
              "      <td>Basic Classifier</td>\n",
              "      <td>0.580000</td>\n",
              "      <td>0.546906</td>\n",
              "      <td>0.913333</td>\n",
              "      <td>0.684145</td>\n",
              "    </tr>\n",
              "    <tr>\n",
              "      <th>1</th>\n",
              "      <td>Word List MF</td>\n",
              "      <td>0.606667</td>\n",
              "      <td>0.569038</td>\n",
              "      <td>0.906667</td>\n",
              "      <td>0.699229</td>\n",
              "    </tr>\n",
              "    <tr>\n",
              "      <th>2</th>\n",
              "      <td>NLTK Naive Bayes</td>\n",
              "      <td>0.673333</td>\n",
              "      <td>0.607884</td>\n",
              "      <td>0.976667</td>\n",
              "      <td>0.749361</td>\n",
              "    </tr>\n",
              "    <tr>\n",
              "      <th>3</th>\n",
              "      <td>Word List Thresh</td>\n",
              "      <td>0.503333</td>\n",
              "      <td>0.501672</td>\n",
              "      <td>1.000000</td>\n",
              "      <td>0.668151</td>\n",
              "    </tr>\n",
              "  </tbody>\n",
              "</table>\n",
              "</div>"
            ],
            "text/plain": [
              "               Name  Accuracy  Precision    Recall  F1-Score\n",
              "0  Basic Classifier  0.580000   0.546906  0.913333  0.684145\n",
              "1      Word List MF  0.606667   0.569038  0.906667  0.699229\n",
              "2  NLTK Naive Bayes  0.673333   0.607884  0.976667  0.749361\n",
              "3  Word List Thresh  0.503333   0.501672  1.000000  0.668151"
            ]
          },
          "metadata": {},
          "output_type": "display_data"
        },
        {
          "data": {
            "text/plain": [
              "(0.0, 1.0)"
            ]
          },
          "execution_count": 23,
          "metadata": {},
          "output_type": "execute_result"
        },
        {
          "data": {
            "image/png": "[encoded data removed]",
            "text/plain": [
              "<Figure size 640x480 with 1 Axes>"
            ]
          },
          "metadata": {},
          "output_type": "display_data"
        }
      ],
      "source": [
        "##Wordlist and threshold size\n",
        "word_list_size = 20\n",
        "threshold=50\n",
        "\n",
        "## The names must be these ones so get_metrics work\n",
        "classifiers={\"Basic Classifier\":SimpleClassifier(pos_train_most_frequent, neg_train_most_frequent),\n",
        "            \"Word List MF\":SimpleClassifier_mf(word_list_size),\n",
        "            \"NLTK Naive Bayes\":NaiveBayesClassifier.train(training_norm),\n",
        "            \"Word List Thresh\":SimpleClassifier_ot(threshold)}\n",
        "\n",
        "results = get_metrics(classifiers)\n",
        "## Create the  metrics list to add them as column names\n",
        "metrics = [\"Name\", \"Accuracy\", \"Precision\" ,\"Recall\", \"F1-Score\"]\n",
        "## Create the data frame based in the results\n",
        "df = pd.DataFrame(results, columns = metrics)\n",
        "\n",
        "display(df)\n",
        "ax = df.plot.bar(title=\"Experimental Results\",legend=True, x =0, rot = 0)\n",
        "ax.set_ylabel(\"Classifier Metrics\")\n",
        "ax.set_xlabel(\"Classifier\")\n",
        "ax.set_ylim(0,1.0)"
      ]
    },
    {
      "cell_type": "markdown",
      "metadata": {},
      "source": [
        "#### Conclusion\n",
        "\n",
        "* The classifier with the best performance is the `NLTK Naive Bayes` classifier which will be compared in the next section with the second best classifier that in this case is the `Word list Most Frequent` classifier. \n",
        "\n",
        "* The `Basic Classifier` and the `Word list Most Frequent` had similar results, even though the second one has better performance in general, this is due to the fact that the training data was pre-processed and the `wordlist` used to train the classifier had some words that describe an important variety of positive and negative sentiment. Likewise, the high `Recall` means that both classifiers are good at predicting positive objects even if some of them are false positives.\n",
        "\n",
        "* The `Word list Above Threshold` classifer had the lowest results in general, selecting the predictions to a probability of 50% that is close to just guess the sentiment for each review. This happens as the list of words automatically generated with the `Above Threshold` method does not provide words that describe a general positive or a negative review, hence when the `classify` method is used no word add or subtract a value to the `score` variable and the classifier guess the output if the score is `0`."
      ]
    },
    {
      "cell_type": "markdown",
      "metadata": {
        "id": "LIS9UpmJNEAp"
      },
      "source": [
        "4)\n",
        "a)  **Construct** a Naive Bayes classifier (e.g., from NLTK).\n",
        "\n",
        "b)  **Compare** the performance of your word list classifier with the Naive Bayes classifier.  **Discuss** your results.\n",
        "\n",
        "[12.5\\%]"
      ]
    },
    {
      "cell_type": "markdown",
      "metadata": {},
      "source": [
        "#### The NLTK Naive Bayes Classifier\n",
        "\n",
        "To use the `NLTK Naive Bayes` classifier is necessary to import the `nltk.classify` library and `NaiveBayesClassifier` class to train the model. \n",
        "\n",
        "The `NLTK Naive Bayes` works under some assumptions:\n",
        "\n",
        "1. The order of the words is ignored.\n",
        "2. It uses a `multinominal` event, hence the number of times a word occur in a document is taken into accout.\n",
        "\n",
        "Moreover, the `NLTK Naive Bayes` is base on different probabilities due the classes and documents, those are:\n",
        "\n",
        "* `Class Priors`: Are the probability of one document to be either `positive review` or `negative review` in this case. It takes the total number of positive reviews divided by the total documents.\n",
        "\n",
        "* `Conditional Probabilities`: This are the probabilities that (In this case) the document is either positive or negative. In order to simplify it makes the assumption that the probability that the different words occur in a document are independet of one another. Then we have: \n",
        "\\begin{aligned}\n",
        "P(\\,d\\,|\\,c\\,) &=& P(\\,\\{w_1,\\ldots,w_n\\}\\,|\\,c\\,)\n",
        "&=& \\prod_{i=1}^n P(\\,w_i\\,|\\,c\\,)\n",
        "\\end{aligned}\n",
        "\n",
        "On the other hand, `NLTK Naive Bayes` implement some other strategies to improve the prediction, such as:\n",
        "\n",
        "* `Add-One Smoothing`: To avoid cero probabilities as it is been done the product of probabilities it is added one extra count (A constant that is usually 1) to the known vocabulary --Words that appear in training data documents-- thus the words that appear in one class of documento but not in the other have now a small probability to occur and the probability es never going to be cero.\n",
        "\n",
        "* `Ignore OOV words`: Ingnore all the words that are not in the known vocabulary.\n",
        "\n",
        "* `Avoid Underflow`: With a thousands of documents with a large number of paragraphs there will be a multiplications of large numbers of very small probabilities. Therefore, to avoid this problem it is added the `Log` of the probability of a document to be in a class and rather than calculating conditional probabilities, it will be calculating `log conditional probabilities`. The we have:\n",
        "\\begin{aligned}\n",
        "\\log(P(\\,d\\,|\\,c\\,))\n",
        "\\end{aligned}\n",
        "\n",
        "This explanation is based on the `lab_4_1` content for the module Applied Natural Language Processing by Dr Jeff Mitchell in the University of Sussex in 2023."
      ]
    },
    {
      "cell_type": "code",
      "execution_count": 24,
      "metadata": {
        "id": "Gwjig-Y12XUN"
      },
      "outputs": [
        {
          "name": "stdout",
          "output_type": "stream",
          "text": [
            "Evaluation metrics for NLTK Naive Bayes classifier:\n",
            "\n",
            "Sentiment accuracy for the NLTK Naive Bayes is: 0.6733\n",
            "Sentiment accuracy for the NLTK Naive Bayes is: 0.6079\n",
            "Sentiment precision for the NLTK Naive Bayes is: 0.6079\n",
            "Sentiment recall for the NLTK Naive Bayes is: 0.9767\n",
            "Sentiment F1-score for the NLTK Naive Bayes is: 0.7494\n"
          ]
        }
      ],
      "source": [
        "from nltk.classify import NaiveBayesClassifier\n",
        "\n",
        "#note that the NaiveBayesClassifier.train() method is a class method which returns the classifier object.\n",
        "#this is different to ours and other classifiers which are first instantiated and then trained via an object method\n",
        "nltk_nb=NaiveBayesClassifier.train(training_norm)\n",
        "\n",
        "nltk_nb.classify_many(docs)\n",
        "\n",
        "cm=ConfusionMatrix(nltk_nb.classify_many(docs),labels,classes=('pos','neg'))\n",
        "nltk_nb_metrics = []\n",
        "\n",
        "print(\"Evaluation metrics for NLTK Naive Bayes classifier:\\n\")\n",
        "print(f\"Sentiment accuracy for the NLTK Naive Bayes is: {classifier_evaluate(nltk_nb, testing_norm):.4f}\")\n",
        "print(f\"Sentiment accuracy for the NLTK Naive Bayes is: {cm.precision():.4f}\")\n",
        "print(f\"Sentiment precision for the NLTK Naive Bayes is: {cm.precision():.4f}\")\n",
        "print(f\"Sentiment recall for the NLTK Naive Bayes is: {cm.recall():.4f}\")\n",
        "print(f\"Sentiment F1-score for the NLTK Naive Bayes is: {cm.f1():.4f}\")\n",
        "\n",
        "nltk_nb_metrics.append((\"NLTK NB\", classifier_evaluate(nltk_nb, testing_norm),cm.precision(), cm.recall(), cm.f1()))"
      ]
    },
    {
      "cell_type": "markdown",
      "metadata": {},
      "source": [
        "#### Extract the information of the best wordlist based classifier the most frequent words from the last question"
      ]
    },
    {
      "cell_type": "code",
      "execution_count": 25,
      "metadata": {},
      "outputs": [
        {
          "data": {
            "text/html": [
              "<div>\n",
              "<style scoped>\n",
              "    .dataframe tbody tr th:only-of-type {\n",
              "        vertical-align: middle;\n",
              "    }\n",
              "\n",
              "    .dataframe tbody tr th {\n",
              "        vertical-align: top;\n",
              "    }\n",
              "\n",
              "    .dataframe thead th {\n",
              "        text-align: right;\n",
              "    }\n",
              "</style>\n",
              "<table border=\"1\" class=\"dataframe\">\n",
              "  <thead>\n",
              "    <tr style=\"text-align: right;\">\n",
              "      <th></th>\n",
              "      <th>Name</th>\n",
              "      <th>Accuracy</th>\n",
              "      <th>Precision</th>\n",
              "      <th>Recall</th>\n",
              "      <th>F1-Score</th>\n",
              "    </tr>\n",
              "  </thead>\n",
              "  <tbody>\n",
              "    <tr>\n",
              "      <th>0</th>\n",
              "      <td>Word List MF</td>\n",
              "      <td>0.606667</td>\n",
              "      <td>0.569038</td>\n",
              "      <td>0.906667</td>\n",
              "      <td>0.699229</td>\n",
              "    </tr>\n",
              "  </tbody>\n",
              "</table>\n",
              "</div>"
            ],
            "text/plain": [
              "           Name  Accuracy Precision    Recall  F1-Score\n",
              "0  Word List MF  0.606667  0.569038  0.906667  0.699229"
            ]
          },
          "execution_count": 25,
          "metadata": {},
          "output_type": "execute_result"
        }
      ],
      "source": [
        "df_mf = pd.DataFrame(results[1])\n",
        "df_mf_t = df_mf.transpose()\n",
        "df_mf_t.columns = metrics\n",
        "df_mf_t"
      ]
    },
    {
      "cell_type": "code",
      "execution_count": 26,
      "metadata": {},
      "outputs": [
        {
          "data": {
            "text/html": [
              "<div>\n",
              "<style scoped>\n",
              "    .dataframe tbody tr th:only-of-type {\n",
              "        vertical-align: middle;\n",
              "    }\n",
              "\n",
              "    .dataframe tbody tr th {\n",
              "        vertical-align: top;\n",
              "    }\n",
              "\n",
              "    .dataframe thead th {\n",
              "        text-align: right;\n",
              "    }\n",
              "</style>\n",
              "<table border=\"1\" class=\"dataframe\">\n",
              "  <thead>\n",
              "    <tr style=\"text-align: right;\">\n",
              "      <th></th>\n",
              "      <th>Name</th>\n",
              "      <th>Accuracy</th>\n",
              "      <th>Precision</th>\n",
              "      <th>Recall</th>\n",
              "      <th>F1-Score</th>\n",
              "    </tr>\n",
              "  </thead>\n",
              "  <tbody>\n",
              "    <tr>\n",
              "      <th>0</th>\n",
              "      <td>Word List MF</td>\n",
              "      <td>0.606667</td>\n",
              "      <td>0.569038</td>\n",
              "      <td>0.906667</td>\n",
              "      <td>0.699229</td>\n",
              "    </tr>\n",
              "    <tr>\n",
              "      <th>0</th>\n",
              "      <td>NLTK NB</td>\n",
              "      <td>0.673333</td>\n",
              "      <td>0.607884</td>\n",
              "      <td>0.976667</td>\n",
              "      <td>0.749361</td>\n",
              "    </tr>\n",
              "  </tbody>\n",
              "</table>\n",
              "</div>"
            ],
            "text/plain": [
              "           Name  Accuracy Precision    Recall  F1-Score\n",
              "0  Word List MF  0.606667  0.569038  0.906667  0.699229\n",
              "0       NLTK NB  0.673333  0.607884  0.976667  0.749361"
            ]
          },
          "metadata": {},
          "output_type": "display_data"
        }
      ],
      "source": [
        "metrics = [\"Name\", \"Accuracy\", \"Precision\" ,\"Recall\", \"F1-Score\"]\n",
        "df_nb = pd.DataFrame(nltk_nb_metrics, columns = metrics)\n",
        "\n",
        "df_mf_nb_compared = pd.concat([df_mf_t, df_nb])\n",
        "display(df_mf_nb_compared)"
      ]
    },
    {
      "cell_type": "code",
      "execution_count": 27,
      "metadata": {
        "id": "3AUsYRMa2XUN"
      },
      "outputs": [
        {
          "data": {
            "text/plain": [
              "(0.0, 1.0)"
            ]
          },
          "execution_count": 27,
          "metadata": {},
          "output_type": "execute_result"
        },
        {
          "data": {
            "image/png": "[encoded data removed]",
            "text/plain": [
              "<Figure size 640x480 with 1 Axes>"
            ]
          },
          "metadata": {},
          "output_type": "display_data"
        }
      ],
      "source": [
        "ax = df_mf_nb_compared.plot.bar(title=\"Experimental Results\", legend=True, x = 0,rot = 0)\n",
        "ax.set_ylabel(\"Metrics values\")\n",
        "ax.set_xlabel(\"Classifier\")\n",
        "ax.set_ylim(0,1.0)"
      ]
    },
    {
      "cell_type": "markdown",
      "metadata": {},
      "source": [
        "#### Conclusion\n",
        "\n",
        "* The `NLTK Naive Bayes` classifier evidence a better performance in this particular problem.\n",
        "\n",
        "* One way to improve the `Word list Most Frequent` classifier is to manually add and delete some words that are not relevant to either predict a positive or negative sentiment.\n",
        "\n",
        "* One way to possibly improve both classifiers, is to try different pre-processing techniques as using `stemming` instead of `lemmatisation`, do not removing `stop words`, changing the size of training and testing data and add more data to the data set.\n",
        "\n",
        "* An important evaluation metric as it is the `F1-Score` is higher with the `NLTK Naive Bayes`, this is due to the fact that the `NLTK Naive Bayes` uses more probabilistic resources to estimate the prediction and used all the known words in the training data, on the other hand, the `Word list Most Frequent` is also based on the words in training data however exclude several words when the top `k` number is selected and some of the automatically selected words may not be completely related to a positive or negative review.\n",
        "\n",
        "* In this case, all the parameters except the `Recall` evidence a better performance in `NLTK Naive Bayes` fact that suggest this classifier predict the positive reviews properly although predicts some false positives.\n",
        "\n",
        "* With the used data, as it is balanced, the `Accuracy` provides relevant information. As showed in the bar chart the `Accuracy` is 0.67 with the `NLTK Naive Bayes` classifier which means that fails in around 30% of the prediction that explains the high `Recall` as the `Accuracy` measures the general performance over all classes."
      ]
    },
    {
      "cell_type": "markdown",
      "metadata": {
        "id": "LGDXaVDqOSfY"
      },
      "source": [
        "5)\n",
        "a) Design and **carry out an experiment** into the impact of the **length of the wordlists** on the wordlist classifier.  Make sure you **describe** design decisions in your experiment, include a **graph** of your results and **discuss** your conclusions.\n",
        "\n",
        "b) Would you **recommend** a wordlist classifier or a Naive Bayes classifier for future work in this area?  **Justify** your answer.\n",
        "\n",
        "[25\\%]\n"
      ]
    },
    {
      "cell_type": "markdown",
      "metadata": {
        "id": "UlxoUthX2XUP"
      },
      "source": [
        "#### Changing the `wordlist` length on the wordlist classifier based on most common words\n",
        "\n",
        "During the experiment it was confirm that the `Word list Most Frequent` classifier has the best performance when compared to the `Word list Above Threshold` and `Basic Classifier`. Thus, `Word list Most Frequent` was selected to carry out the experiment to calculate the performance through evaluation metrics as `Accuracy`, `Precision`, `Recall` and `F1-Score` with different `wordlist` sizes.\n",
        "\n",
        "The code implemented for this experiment is similar to the one used befored where it was comparared all the classifiers, in this case, the goals is to measure the performance of the classifier within a range of `wordlist` lenght. Hence, the structure of using the dictionary to iterate through it, evaluate the classifier and get the metrics is the same, however, in this case is better to store the information in a dictionary of dictionaries where the outter dictionary keys are the length of the `wordlist` and the values are the metrics so the information is clear and ordered and easier to plot."
      ]
    },
    {
      "cell_type": "code",
      "execution_count": 28,
      "metadata": {},
      "outputs": [],
      "source": [
        "## My range test - Number from 2 to 30 in steps of 2\n",
        "my_range_test = range(2, 50)\n",
        "\n",
        "## Initialise outter dictionaries\n",
        "results_test_wordlist_length_accuracy = {}\n",
        "results_test_wordlist_length_precision = {}\n",
        "results_test_wordlist_length_recall = {}\n",
        "results_test_wordlist_length_f1 = {}\n",
        "\n",
        "## Loop through the lenght of the experiment range\n",
        "for wordlist_length in my_range_test:\n",
        "\n",
        "    ## Initialise the inner dictionaries\n",
        "    accuracy_results = {}\n",
        "    precision_results = {}\n",
        "    recall_results = {}\n",
        "    f1_results={}\n",
        "\n",
        "    ## The names must be these ones so get_metrics work\n",
        "    classifiers={\"Word List MF\":SimpleClassifier_mf(wordlist_length)}\n",
        "\n",
        "    ## Loop through the dictionary with the classifiers\n",
        "    for name,classifier in classifiers.items():\n",
        "        \n",
        "        ## Get the metrics\n",
        "        if name == \"Word List MF\":\n",
        "            classifier.train(training_norm)\n",
        "            accuracy = classifier_evaluate(classifier,testing_norm)\n",
        "            sentiment = ConfusionMatrix(classifier.classify_many(docs), labels)\n",
        "            precision = sentiment.precision()\n",
        "            recall = sentiment.recall()\n",
        "            f1 = sentiment.f1()\n",
        "            ##Add the metrics to a dictionary\n",
        "            accuracy_results[name] = accuracy\n",
        "            precision_results[name] = precision\n",
        "            recall_results[name] = recall\n",
        "            f1_results[name] = f1\n",
        "            \n",
        "\n",
        "    ##Create the dictionary of dictionaries where outter key is the wordlist length\n",
        "    results_test_wordlist_length_accuracy[wordlist_length] = accuracy_results\n",
        "    results_test_wordlist_length_precision[wordlist_length] = precision_results\n",
        "    results_test_wordlist_length_recall[wordlist_length] = recall_results\n",
        "    results_test_wordlist_length_f1[wordlist_length] = f1_results"
      ]
    },
    {
      "cell_type": "code",
      "execution_count": 29,
      "metadata": {},
      "outputs": [],
      "source": [
        "##Data frame with classifiers precision\n",
        "df_accuracy=pd.DataFrame(results_test_wordlist_length_accuracy)\n",
        "df_accuracy=df_accuracy.transpose()\n",
        "\n",
        "##Data frame with classifiers precision\n",
        "df_precision=pd.DataFrame(results_test_wordlist_length_precision)\n",
        "df_precision=df_precision.transpose()\n",
        "\n",
        "##Data frame with classifiers recall\n",
        "df_recall=pd.DataFrame(results_test_wordlist_length_recall)\n",
        "df_recall=df_recall.transpose()\n",
        "\n",
        "##Data frame with classifiers F1 score\n",
        "df_f1=pd.DataFrame(results_test_wordlist_length_f1)\n",
        "df_f1=df_f1.transpose()"
      ]
    },
    {
      "cell_type": "code",
      "execution_count": 30,
      "metadata": {},
      "outputs": [
        {
          "data": {
            "text/plain": [
              "<matplotlib.legend.Legend at 0x11e68571a10>"
            ]
          },
          "execution_count": 30,
          "metadata": {},
          "output_type": "execute_result"
        },
        {
          "data": {
            "image/png": "[encoded data removed]",
            "text/plain": [
              "<Figure size 640x480 with 1 Axes>"
            ]
          },
          "metadata": {},
          "output_type": "display_data"
        },
        {
          "data": {
            "image/png": "[encoded data removed]",
            "text/plain": [
              "<Figure size 640x480 with 1 Axes>"
            ]
          },
          "metadata": {},
          "output_type": "display_data"
        },
        {
          "data": {
            "image/png": "[encoded data removed]",
            "text/plain": [
              "<Figure size 640x480 with 1 Axes>"
            ]
          },
          "metadata": {},
          "output_type": "display_data"
        },
        {
          "data": {
            "image/png": "[encoded data removed]",
            "text/plain": [
              "<Figure size 640x480 with 1 Axes>"
            ]
          },
          "metadata": {},
          "output_type": "display_data"
        }
      ],
      "source": [
        "##Plot the classifiers accuracy\n",
        "ax = df_accuracy.plot(kind=\"line\",title=\"Experimental Accuracy Results\")\n",
        "ax.set_ylabel(\"Accuracy\")\n",
        "ax.set_xlabel(\"Word List Length\")\n",
        "ax.legend(loc=\"lower right\")\n",
        "\n",
        "##Plot the classifiers precision\n",
        "ax = df_precision.plot(kind=\"line\",title=\"Experimental Precision Results\")\n",
        "ax.set_ylabel(\"Precision\")\n",
        "ax.set_xlabel(\"Word List Length\")\n",
        "ax.legend(loc=\"lower right\")\n",
        "\n",
        "##Plot the classifiers recall\n",
        "ax = df_recall.plot(kind=\"line\",title=\"Experimental Recall Results\")\n",
        "ax.set_ylabel(\"Recall\")\n",
        "ax.set_xlabel(\"Word List Length\")\n",
        "ax.legend(loc=\"lower right\")\n",
        "\n",
        "##Plot the classifiers F1 score\n",
        "ax = df_f1.plot(kind=\"line\",title=\"Experimental F1-Score Results\")\n",
        "ax.set_ylabel(\"F1-Score\")\n",
        "ax.set_xlabel(\"Word List Length\")\n",
        "ax.legend(loc=\"lower right\")"
      ]
    },
    {
      "cell_type": "markdown",
      "metadata": {},
      "source": [
        "#### Conclusions\n",
        "\n",
        "* The `Accuracy` evidence that even in this case, using `balance` data and pre-processed with `case and number normalisation`, `stop words removal` and `lemmatisation` this metric does not provide itself enough information to make a decision in what is the best wordlist length.\n",
        "\n",
        "* There is an interesting result in `Precision` line chart as has a peak when the `wordlist` lenght is around `5`. This could be due to the fact that the first 5 words in the wordlist are general (such as:'film', 'life', 'also', 'great', 'one' in positive and 'bad', 'movie', 'plot', 'minute', 'worst' in negative)thus the classifier predicts correctly some of them as positive or negative because it has some words as 'great' or 'worst' that are highely used in positive and negative reviews and the `precision` raise to almost `0.6`.\n",
        "\n",
        "* A `wordlist` of around `20` words reveals that is a good option to be used in the classifier because in all metrics confirms a good performance, moreover the `Precision`, `Recall` and `F1-Score` results confirms that using more than `20` words in the `wordlist` would lead to reduce the precision considerably.\n",
        "\n",
        "* The `Recall` shows a valley with a `wordlist` of `20` words, in this particular case this is not a bad result, as the goal of the classifier is to classify properly either positive and negative reviews, hence a extremely high recall may not be the best answer since that means the model is highly efective capturing positive reviews but is not as good with the negative ones.\n",
        "\n",
        "* All `metrics` show that with around `37` words the classifier performance goes down, this could be explain as there are now plenty words in the lists, the classifier may deal with some scores equal to `0` and then the prediction became random. \n",
        "\n",
        "* The `wordlist` length in this scenario has a positive impact in the classifier performance, however is necessary to interpret the graphs properly to identify the best `wordlist` lenght for the reason that not always a high value in one metric means that is the best for a particular case. E.g the `Recall` valley and the fluctuation in `Precision`.\n",
        "\n",
        "#### Would you **recommend** a wordlist classifier or a Naive Bayes classifier for future work in this area?\n",
        "\n",
        "The recommendation of either a `wordlist` classifier or a `Naive Bayes` classifier is related to the problem wanted to solve. If the problem has not a high complexity were the words matching is effective, the data available is limited and if the problem requires certain decision base in specific words, the best option is the `wordlist` classifier. On the other hand, for more complex scenarios where the classifier was trained with diverse and representative data for that problem, the statistical approach is a great advantage, furthermore, even if there are some weakness in the `Naive Bayes` classifier, it has already implemented some strategies that help to mitigate problems (such as: Add-One smoothing, ignore OOV words and Avoid underflow). \n",
        "\n",
        "Certainly, a `wordlist` classifier is not as complex and robust as the `Naive Bayes`. Nevertheless, is possible to implement a `wordlist` classifier with no high complexity, limited data or when some espefici words lead to specific decision. In other scenarios the best option is to use a `Naive Bayes` classifier where the variety of words is higher, the statistical approach can capture more complex relationships between words.\n",
        "\n",
        "\n",
        "\n",
        "Andres Sebastian Salazar Alturo\n",
        "Artificial intelligence and adaptive systems master's student\n",
        "276209"
      ]
    },
    {
      "cell_type": "code",
      "execution_count": null,
      "metadata": {
        "colab": {
          "base_uri": "https://localhost:8080/"
        },
        "id": "34rdlS_iPov6",
        "outputId": "5465e8f3-ec02-4ff6-b326-0bf15c507b73"
      },
      "outputs": [],
      "source": [
        "##This code will word count all of the markdown cells in the notebook saved at filepath\n",
        "\n",
        "import io\n",
        "from nbformat import current\n",
        "\n",
        "from google.colab import drive\n",
        "drive.mount('/content/drive')\n",
        "\n",
        "filepath=\"/content/drive/MyDrive/Colab Notebooks/ANLPassignment2023.ipynb\"\n",
        "question_count=432\n",
        "\n",
        "with io.open(filepath, 'r', encoding='utf-8') as f:\n",
        "    nb = current.read(f, 'json')\n",
        "\n",
        "word_count = 0\n",
        "for cell in nb.worksheets[0].cells:\n",
        "    if cell.cell_type == \"markdown\":\n",
        "        word_count += len(cell['source'].replace('#', '').lstrip().split(' '))\n",
        "print(\"Submission length is {}\".format(word_count-question_count))"
      ]
    }
  ],
  "metadata": {
    "colab": {
      "provenance": []
    },
    "kernelspec": {
      "display_name": "Python 3",
      "language": "python",
      "name": "python3"
    },
    "language_info": {
      "codemirror_mode": {
        "name": "ipython",
        "version": 3
      },
      "file_extension": ".py",
      "mimetype": "text/x-python",
      "name": "python",
      "nbconvert_exporter": "python",
      "pygments_lexer": "ipython3",
      "version": "3.11.4"
    }
  },
  "nbformat": 4,
  "nbformat_minor": 0
}
